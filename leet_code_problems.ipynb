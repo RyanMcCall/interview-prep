{
 "cells": [
  {
   "cell_type": "markdown",
   "metadata": {},
   "source": [
    "## Two Sum\n",
    "Given an array of integers, return indices of the two numbers such that they add up to a specific target.\n",
    "\n",
    "You may assume that each input would have exactly one solution, and you may not use the same element twice.\n",
    "\n",
    "Example:\n",
    "```\n",
    "Given nums = [2, 7, 11, 15], target = 9,\n",
    "\n",
    "Because nums[0] + nums[1] = 2 + 7 = 9,\n",
    "return [0, 1].\n",
    "```\n",
    "\n",
    "### Brute Force"
   ]
  },
  {
   "cell_type": "code",
   "execution_count": 1,
   "metadata": {},
   "outputs": [
    {
     "data": {
      "text/plain": [
       "[0, 1]"
      ]
     },
     "execution_count": 1,
     "metadata": {},
     "output_type": "execute_result"
    }
   ],
   "source": [
    "def twoSum(nums, target):\n",
    "    for indice_1 in range(len(nums)):\n",
    "        for indice_2 in range(indice_1 + 1, len(nums)):\n",
    "            if nums[indice_2] == target - nums[indice_1]:\n",
    "                return [indice_1, indice_2]\n",
    "\n",
    "given_nums = [2, 7, 11, 15]\n",
    "given_target = 9\n",
    "twoSum(given_nums, given_target)"
   ]
  },
  {
   "cell_type": "code",
   "execution_count": 2,
   "metadata": {},
   "outputs": [
    {
     "name": "stdout",
     "output_type": "stream",
     "text": [
      "628 ns ± 12.1 ns per loop (mean ± std. dev. of 7 runs, 1000000 loops each)\n"
     ]
    }
   ],
   "source": [
    "%timeit twoSum(given_nums, given_target)"
   ]
  },
  {
   "cell_type": "markdown",
   "metadata": {},
   "source": [
    "### One-Pass"
   ]
  },
  {
   "cell_type": "code",
   "execution_count": 3,
   "metadata": {},
   "outputs": [
    {
     "data": {
      "text/plain": [
       "[0, 1]"
      ]
     },
     "execution_count": 3,
     "metadata": {},
     "output_type": "execute_result"
    }
   ],
   "source": [
    "def twoSum(nums, target):\n",
    "    seen = {}\n",
    "    for indice, num in enumerate(nums):\n",
    "        leftover = target - num\n",
    "        if leftover in seen:\n",
    "            return [seen[leftover], indice]\n",
    "        seen[num] = indice\n",
    "    return []\n",
    "twoSum(given_nums, given_target)"
   ]
  },
  {
   "cell_type": "code",
   "execution_count": 4,
   "metadata": {},
   "outputs": [
    {
     "name": "stdout",
     "output_type": "stream",
     "text": [
      "474 ns ± 19.7 ns per loop (mean ± std. dev. of 7 runs, 1000000 loops each)\n"
     ]
    }
   ],
   "source": [
    "%timeit twoSum(given_nums, given_target)"
   ]
  },
  {
   "cell_type": "markdown",
   "metadata": {},
   "source": [
    "## Valid Palindrome\n",
    "\n",
    "Given a string, determine if it is a palindrome, considering only alphanumeric characters and ignoring cases.\n",
    "\n",
    "Note: For the purpose of this problem, we define empty string as valid palindrome.\n",
    "\n",
    "**Example 1:**\n",
    "```\n",
    "Input: \"A man, a plan, a canal: Panama\"\n",
    "Output: true\n",
    "```\n",
    "**Example 2:**\n",
    "```\n",
    "Input: \"race a car\"\n",
    "Output: false\n",
    "```"
   ]
  },
  {
   "cell_type": "code",
   "execution_count": 5,
   "metadata": {},
   "outputs": [
    {
     "name": "stdout",
     "output_type": "stream",
     "text": [
      "True\n",
      "False\n",
      "True\n"
     ]
    }
   ],
   "source": [
    "import re\n",
    "\n",
    "def isPalindrome(s: str) -> bool:\n",
    "    #Remove all unnecessary charectars\n",
    "    clean_string = re.sub('[^a-zA-Z0-9]', '', s).lower()\n",
    "    #Reverse the string\n",
    "    reversed_string = ''\n",
    "    for x in range(1, len(clean_string) + 1):\n",
    "         reversed_string = reversed_string + clean_string[-x]\n",
    "    # #Does reverse string == normal string\n",
    "    # if reversed_string == clean_string:\n",
    "    #     return True\n",
    "    # else:\n",
    "    #     return False\n",
    "    for x in range(len(clean_string)):\n",
    "        if clean_string[x] != reversed_string[x]:\n",
    "            return False\n",
    "    return True\n",
    "\n",
    "print(isPalindrome('racecar'))\n",
    "print(isPalindrome('race a car'))\n",
    "print(isPalindrome( ('ab' * 1000000) + 'a'))"
   ]
  },
  {
   "cell_type": "code",
   "execution_count": 6,
   "metadata": {},
   "outputs": [
    {
     "name": "stdout",
     "output_type": "stream",
     "text": [
      "480 ms ± 24.8 ms per loop (mean ± std. dev. of 7 runs, 1 loop each)\n"
     ]
    }
   ],
   "source": [
    "%timeit isPalindrome( ('ab' * 1000000) + 'a')"
   ]
  },
  {
   "cell_type": "code",
   "execution_count": 7,
   "metadata": {},
   "outputs": [
    {
     "name": "stdout",
     "output_type": "stream",
     "text": [
      "True\n",
      "False\n",
      "True\n"
     ]
    }
   ],
   "source": [
    "def isPalindrome(s: str) -> bool:\n",
    "        #Remove all unnecessary charectars\n",
    "        clean_string = re.sub('[^a-zA-Z0-9]', '', s).lower()\n",
    "        #Reverse the string\n",
    "        reversed_string = clean_string[::-1]\n",
    "        # for x in range(1, len(clean_string) + 1):\n",
    "        #      reversed_string = reversed_string + clean_string[-x]\n",
    "        # #Does reverse string == normal string\n",
    "        # if reversed_string == clean_string:\n",
    "        #     return True\n",
    "        # else:\n",
    "        #     return False\n",
    "        for x in range(len(clean_string)):\n",
    "            if clean_string[x] != reversed_string[x]:\n",
    "                return False\n",
    "        return True\n",
    "    \n",
    "print(isPalindrome('racecar'))\n",
    "print(isPalindrome('race a car'))\n",
    "print(isPalindrome( ('ab' * 1000000) + 'a'))"
   ]
  },
  {
   "cell_type": "code",
   "execution_count": 8,
   "metadata": {},
   "outputs": [
    {
     "name": "stdout",
     "output_type": "stream",
     "text": [
      "149 ms ± 1.38 ms per loop (mean ± std. dev. of 7 runs, 10 loops each)\n"
     ]
    }
   ],
   "source": [
    "%timeit isPalindrome( ('ab' * 1000000) + 'a')"
   ]
  },
  {
   "cell_type": "code",
   "execution_count": 9,
   "metadata": {},
   "outputs": [
    {
     "name": "stdout",
     "output_type": "stream",
     "text": [
      "True\n",
      "False\n",
      "True\n"
     ]
    }
   ],
   "source": [
    "def isPalindrome(s: str) -> bool:\n",
    "        #Remove all unnecessary charectars\n",
    "        clean_string = re.sub('[^a-zA-Z0-9]', '', s).lower()\n",
    "        #Reverse the string\n",
    "        reversed_string = ''\n",
    "        for x in range(1, len(clean_string) + 1):\n",
    "             reversed_string = reversed_string + clean_string[-x]\n",
    "        #Does reverse string == normal string\n",
    "        if reversed_string == clean_string:\n",
    "            return True\n",
    "        else:\n",
    "            return False\n",
    "        return True\n",
    "    \n",
    "print(isPalindrome('racecar'))\n",
    "print(isPalindrome('race a car'))\n",
    "print(isPalindrome( ('ab' * 1000000) + 'a'))"
   ]
  },
  {
   "cell_type": "code",
   "execution_count": 10,
   "metadata": {},
   "outputs": [
    {
     "name": "stdout",
     "output_type": "stream",
     "text": [
      "326 ms ± 14.6 ms per loop (mean ± std. dev. of 7 runs, 1 loop each)\n"
     ]
    }
   ],
   "source": [
    "%timeit isPalindrome( ('ab' * 1000000) + 'a')"
   ]
  },
  {
   "cell_type": "markdown",
   "metadata": {},
   "source": [
    "## Factorial by Recursion"
   ]
  }
 ],
 "metadata": {
  "kernelspec": {
   "display_name": "Python 3",
   "language": "python",
   "name": "python3"
  },
  "language_info": {
   "codemirror_mode": {
    "name": "ipython",
    "version": 3
   },
   "file_extension": ".py",
   "mimetype": "text/x-python",
   "name": "python",
   "nbconvert_exporter": "python",
   "pygments_lexer": "ipython3",
   "version": "3.7.7"
  }
 },
 "nbformat": 4,
 "nbformat_minor": 4
}
